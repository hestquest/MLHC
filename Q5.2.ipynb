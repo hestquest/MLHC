{
 "cells": [
  {
   "cell_type": "markdown",
   "id": "970afa9e",
   "metadata": {},
   "source": [
    "# Data Randomization Test"
   ]
  },
  {
   "cell_type": "code",
   "execution_count": 18,
   "id": "6ed9699a",
   "metadata": {},
   "outputs": [],
   "source": [
    "import tensorflow as tf\n",
    "import os\n",
    "\n",
    "import cv2\n",
    "import imghdr\n",
    "\n",
    "import numpy as np\n",
    "import matplotlib.pyplot as plt\n",
    "from tensorflow.keras.preprocessing.image import ImageDataGenerator\n",
    "import random"
   ]
  },
  {
   "cell_type": "markdown",
   "id": "ea6a97d7",
   "metadata": {},
   "source": [
    "## Randomize Files"
   ]
  },
  {
   "cell_type": "code",
   "execution_count": 71,
   "id": "6aff4e2c",
   "metadata": {},
   "outputs": [],
   "source": [
    "\"\"\"\n",
    "import os\n",
    "import shutil\n",
    "\n",
    "for i in range(8):\n",
    "    root_src = 'chest_xray_shuffled/val_shuffled'\n",
    "    files = os.listdir(root_src)\n",
    "    file = random.choice(files)\n",
    "    new_root = os.path.join(root_src, 'new')\n",
    "    shutil.copy(os.path.join(root_src, file), 'chest_xray_shuffled/NORMAL') \n",
    "    os.remove('chest_xray_shuffled/val_shuffled/'+file)\n",
    "\"\"\""
   ]
  },
  {
   "cell_type": "markdown",
   "id": "ebd45669",
   "metadata": {},
   "source": [
    "## Building Keras Pipeline"
   ]
  },
  {
   "cell_type": "code",
   "execution_count": 72,
   "id": "48fce12e",
   "metadata": {},
   "outputs": [],
   "source": [
    "batch_size = 32"
   ]
  },
  {
   "cell_type": "code",
   "execution_count": 73,
   "id": "150c1bc3",
   "metadata": {},
   "outputs": [],
   "source": [
    "image_generator = ImageDataGenerator(rescale = 1./255, shear_range = 0.1, zoom_range = 0.1)\n",
    "\n",
    "test_generator = ImageDataGenerator(rescale = 1./255)"
   ]
  },
  {
   "cell_type": "code",
   "execution_count": 75,
   "id": "6eac8278",
   "metadata": {},
   "outputs": [
    {
     "name": "stdout",
     "output_type": "stream",
     "text": [
      "Found 5216 images belonging to 2 classes.\n",
      "Found 16 images belonging to 2 classes.\n",
      "Found 624 images belonging to 2 classes.\n"
     ]
    }
   ],
   "source": [
    "train_data = image_generator.flow_from_directory('chest_xray_shuffled/train_shuffled', \n",
    "                                                 class_mode='binary', \n",
    "                                                 classes = ['NORMAL', 'PNEUMONIA'], \n",
    "                                                 color_mode = 'grayscale', \n",
    "                                                 shuffle=False, \n",
    "                                                 target_size=(256, 256))\n",
    "\n",
    "val_data = test_generator.flow_from_directory('chest_xray_shuffled/val_shuffled', \n",
    "                                              class_mode='binary', \n",
    "                                              batch_size = batch_size, \n",
    "                                              classes = ['NORMAL', 'PNEUMONIA'], \n",
    "                                              color_mode = 'grayscale', \n",
    "                                              shuffle=False, \n",
    "                                              target_size=(256, 256))\n",
    "\n",
    "test_data = test_generator.flow_from_directory('chest_xray_shuffled/test', \n",
    "                                               class_mode='binary', \n",
    "                                               batch_size = batch_size, \n",
    "                                               classes = ['NORMAL', 'PNEUMONIA'], \n",
    "                                               color_mode = 'grayscale', \n",
    "                                               shuffle=False, \n",
    "                                               target_size=(256, 256))"
   ]
  },
  {
   "cell_type": "code",
   "execution_count": 76,
   "id": "5dadc2a9",
   "metadata": {},
   "outputs": [
    {
     "name": "stdout",
     "output_type": "stream",
     "text": [
      "[0 0 0 ... 1 1 1]\n"
     ]
    }
   ],
   "source": [
    "class_names = train_data.classes\n",
    "print(class_names)"
   ]
  },
  {
   "cell_type": "markdown",
   "id": "b735e4ac",
   "metadata": {},
   "source": [
    "## Building Model"
   ]
  },
  {
   "cell_type": "code",
   "execution_count": 78,
   "id": "8880df6a",
   "metadata": {},
   "outputs": [],
   "source": [
    "import keras\n",
    "from tensorflow.keras import layers\n",
    "\n",
    "from tensorflow.keras.models import Sequential\n",
    "from tensorflow.keras.layers import Conv2D, MaxPooling2D, Dense, Flatten, Dropout, Rescaling"
   ]
  },
  {
   "cell_type": "code",
   "execution_count": 79,
   "id": "798d68eb",
   "metadata": {},
   "outputs": [],
   "source": [
    "model = Sequential()"
   ]
  },
  {
   "cell_type": "code",
   "execution_count": 80,
   "id": "a3c20f69",
   "metadata": {},
   "outputs": [],
   "source": [
    "model.add(Conv2D(8, (3,3), 1, activation='relu', input_shape=(256, 256, 1)))\n",
    "model.add(MaxPooling2D())\n",
    "\n",
    "model.add(Conv2D(16, (3,3), 1, activation='relu', input_shape=(256, 256, 1)))\n",
    "model.add(MaxPooling2D())\n",
    "\n",
    "model.add(Conv2D(32, (3,3), 1, activation='relu'))\n",
    "model.add(MaxPooling2D())\n",
    "\n",
    "model.add(Conv2D(32, (3,3), 1, activation='relu'))\n",
    "model.add(MaxPooling2D())\n",
    "\n",
    "model.add(Flatten())\n",
    "\n",
    "model.add(Dense(128, activation='relu'))\n",
    "model.add(Dense(64, activation = 'relu'))\n",
    "model.add(Dense(1, activation='sigmoid'))"
   ]
  },
  {
   "cell_type": "code",
   "execution_count": 81,
   "id": "6bef4ad1",
   "metadata": {},
   "outputs": [],
   "source": [
    "model.compile('adam', loss=tf.losses.BinaryCrossentropy(), metrics=['accuracy', 'AUC'])"
   ]
  },
  {
   "cell_type": "code",
   "execution_count": 82,
   "id": "b27d097b",
   "metadata": {},
   "outputs": [
    {
     "name": "stdout",
     "output_type": "stream",
     "text": [
      "Model: \"sequential\"\n",
      "_________________________________________________________________\n",
      " Layer (type)                Output Shape              Param #   \n",
      "=================================================================\n",
      " conv2d (Conv2D)             (None, 254, 254, 8)       80        \n",
      "                                                                 \n",
      " max_pooling2d (MaxPooling2D  (None, 127, 127, 8)      0         \n",
      " )                                                               \n",
      "                                                                 \n",
      " conv2d_1 (Conv2D)           (None, 125, 125, 16)      1168      \n",
      "                                                                 \n",
      " max_pooling2d_1 (MaxPooling  (None, 62, 62, 16)       0         \n",
      " 2D)                                                             \n",
      "                                                                 \n",
      " conv2d_2 (Conv2D)           (None, 60, 60, 32)        4640      \n",
      "                                                                 \n",
      " max_pooling2d_2 (MaxPooling  (None, 30, 30, 32)       0         \n",
      " 2D)                                                             \n",
      "                                                                 \n",
      " conv2d_3 (Conv2D)           (None, 28, 28, 32)        9248      \n",
      "                                                                 \n",
      " max_pooling2d_3 (MaxPooling  (None, 14, 14, 32)       0         \n",
      " 2D)                                                             \n",
      "                                                                 \n",
      " flatten (Flatten)           (None, 6272)              0         \n",
      "                                                                 \n",
      " dense (Dense)               (None, 128)               802944    \n",
      "                                                                 \n",
      " dense_1 (Dense)             (None, 64)                8256      \n",
      "                                                                 \n",
      " dense_2 (Dense)             (None, 1)                 65        \n",
      "                                                                 \n",
      "=================================================================\n",
      "Total params: 826,401\n",
      "Trainable params: 826,401\n",
      "Non-trainable params: 0\n",
      "_________________________________________________________________\n"
     ]
    }
   ],
   "source": [
    "model.summary()"
   ]
  },
  {
   "cell_type": "code",
   "execution_count": 83,
   "id": "6a5552a2",
   "metadata": {},
   "outputs": [],
   "source": [
    "from tensorflow.keras.utils import plot_model\n",
    "from tensorflow.keras.callbacks import EarlyStopping,ReduceLROnPlateau\n",
    "from sklearn.utils.class_weight import compute_class_weight"
   ]
  },
  {
   "cell_type": "code",
   "execution_count": 84,
   "id": "f468caf2",
   "metadata": {},
   "outputs": [],
   "source": [
    "early = EarlyStopping(monitor = 'val_loss', mode='min', patience=4)\n",
    "\n",
    "learning_rate_reduction = ReduceLROnPlateau(monitor='val_loss', patience = 3, verbose=1,factor=0.3, min_lr=0.000001)\n",
    "\n",
    "callbacks_list = [early, learning_rate_reduction]"
   ]
  },
  {
   "cell_type": "code",
   "execution_count": 86,
   "id": "3af31d0f",
   "metadata": {},
   "outputs": [
    {
     "name": "stdout",
     "output_type": "stream",
     "text": [
      "{0: 1.9448173005219984, 1: 0.6730322580645162}\n"
     ]
    }
   ],
   "source": [
    "unique_classes = np.unique(train_data.classes)\n",
    "classes = train_data.classes\n",
    "\n",
    "weights = compute_class_weight(class_weight = 'balanced', classes= unique_classes, y = classes)\n",
    "\n",
    "class_weights = dict(zip( np.unique(train_data.classes), weights))\n",
    "\n",
    "print(class_weights)"
   ]
  },
  {
   "cell_type": "markdown",
   "id": "d700158e",
   "metadata": {},
   "source": [
    "## Training Model"
   ]
  },
  {
   "cell_type": "code",
   "execution_count": 88,
   "id": "365fad6a",
   "metadata": {},
   "outputs": [
    {
     "name": "stdout",
     "output_type": "stream",
     "text": [
      "Epoch 1/20\n",
      "163/163 [==============================] - 262s 2s/step - loss: 0.7203 - accuracy: 0.4423 - auc: 0.4408 - val_loss: 0.6935 - val_accuracy: 0.5000 - val_auc: 0.5000 - lr: 0.0010\n",
      "Epoch 2/20\n",
      "163/163 [==============================] - 218s 1s/step - loss: 0.6945 - accuracy: 0.3637 - auc: 0.4194 - val_loss: 0.6932 - val_accuracy: 0.5000 - val_auc: 0.5000 - lr: 0.0010\n",
      "Epoch 3/20\n",
      "163/163 [==============================] - 226s 1s/step - loss: 0.6937 - accuracy: 0.7429 - auc: 0.5001 - val_loss: 0.6932 - val_accuracy: 0.5000 - val_auc: 0.5000 - lr: 0.0010\n",
      "Epoch 4/20\n",
      "163/163 [==============================] - 243s 1s/step - loss: 0.6968 - accuracy: 0.7061 - auc: 0.4148 - val_loss: 0.6931 - val_accuracy: 0.5000 - val_auc: 0.5000 - lr: 0.0010\n",
      "Epoch 5/20\n",
      "163/163 [==============================] - ETA: 0s - loss: 0.6935 - accuracy: 0.6141 - auc: 0.4570\n",
      "Epoch 5: ReduceLROnPlateau reducing learning rate to 0.0003000000142492354.\n",
      "163/163 [==============================] - 230s 1s/step - loss: 0.6935 - accuracy: 0.6141 - auc: 0.4570 - val_loss: 0.6931 - val_accuracy: 0.5000 - val_auc: 0.5000 - lr: 0.0010\n",
      "Epoch 6/20\n",
      "163/163 [==============================] - 209s 1s/step - loss: 0.6933 - accuracy: 0.7429 - auc: 0.5000 - val_loss: 0.6931 - val_accuracy: 0.5000 - val_auc: 0.5000 - lr: 3.0000e-04\n",
      "Epoch 7/20\n",
      "163/163 [==============================] - 1169s 7s/step - loss: 0.6933 - accuracy: 0.7429 - auc: 0.5000 - val_loss: 0.6931 - val_accuracy: 0.5000 - val_auc: 0.5000 - lr: 3.0000e-04\n",
      "Epoch 8/20\n",
      "163/163 [==============================] - ETA: 0s - loss: 0.6933 - accuracy: 0.3869 - auc: 0.5000\n",
      "Epoch 8: ReduceLROnPlateau reducing learning rate to 9.000000427477062e-05.\n",
      "163/163 [==============================] - 294s 2s/step - loss: 0.6933 - accuracy: 0.3869 - auc: 0.5000 - val_loss: 0.6931 - val_accuracy: 0.5000 - val_auc: 0.5000 - lr: 3.0000e-04\n",
      "Epoch 9/20\n",
      "163/163 [==============================] - 282s 2s/step - loss: 0.6932 - accuracy: 0.7429 - auc: 0.5000 - val_loss: 0.6931 - val_accuracy: 0.5000 - val_auc: 0.5000 - lr: 9.0000e-05\n",
      "Epoch 10/20\n",
      "163/163 [==============================] - 286s 2s/step - loss: 0.6932 - accuracy: 0.7429 - auc: 0.5000 - val_loss: 0.6931 - val_accuracy: 0.5000 - val_auc: 0.5000 - lr: 9.0000e-05\n",
      "Epoch 11/20\n",
      "163/163 [==============================] - ETA: 0s - loss: 0.6932 - accuracy: 0.7429 - auc: 0.5000\n",
      "Epoch 11: ReduceLROnPlateau reducing learning rate to 2.700000040931627e-05.\n",
      "163/163 [==============================] - 294s 2s/step - loss: 0.6932 - accuracy: 0.7429 - auc: 0.5000 - val_loss: 0.6931 - val_accuracy: 0.5000 - val_auc: 0.5000 - lr: 9.0000e-05\n",
      "Epoch 12/20\n",
      "163/163 [==============================] - 289s 2s/step - loss: 0.6932 - accuracy: 0.7429 - auc: 0.5000 - val_loss: 0.6931 - val_accuracy: 0.5000 - val_auc: 0.5000 - lr: 2.7000e-05\n",
      "Epoch 13/20\n",
      "163/163 [==============================] - 295s 2s/step - loss: 0.6932 - accuracy: 0.7429 - auc: 0.5000 - val_loss: 0.6931 - val_accuracy: 0.5000 - val_auc: 0.5000 - lr: 2.7000e-05\n",
      "Epoch 14/20\n",
      "163/163 [==============================] - ETA: 0s - loss: 0.6932 - accuracy: 0.7429 - auc: 0.5000\n",
      "Epoch 14: ReduceLROnPlateau reducing learning rate to 8.100000013655517e-06.\n",
      "163/163 [==============================] - 292s 2s/step - loss: 0.6932 - accuracy: 0.7429 - auc: 0.5000 - val_loss: 0.6931 - val_accuracy: 0.5000 - val_auc: 0.5000 - lr: 2.7000e-05\n"
     ]
    }
   ],
   "source": [
    "hist = model.fit(train_data, epochs=20, validation_data = val_data, class_weight = class_weights, callbacks=callbacks_list)"
   ]
  },
  {
   "cell_type": "code",
   "execution_count": 89,
   "id": "a20839f5",
   "metadata": {},
   "outputs": [
    {
     "data": {
      "image/png": "[encoded data removed]",
      "text/plain": [
       "<Figure size 640x480 with 1 Axes>"
      ]
     },
     "metadata": {},
     "output_type": "display_data"
    }
   ],
   "source": [
    "fig = plt.figure()\n",
    "plt.plot(hist.history['loss'], color='teal', label='loss')\n",
    "plt.plot(hist.history['val_loss'], color='orange', label='val_loss')\n",
    "fig.suptitle('Loss', fontsize=20)\n",
    "plt.legend(loc='upper left')\n",
    "plt.show()"
   ]
  },
  {
   "cell_type": "markdown",
   "id": "985ab711",
   "metadata": {},
   "source": [
    "## Testing and Evaluating Model"
   ]
  },
  {
   "cell_type": "code",
   "execution_count": 90,
   "id": "290c984f",
   "metadata": {},
   "outputs": [],
   "source": [
    "from tensorflow.keras.metrics import Precision, Recall, BinaryAccuracy\n",
    "import sklearn.metrics"
   ]
  },
  {
   "cell_type": "code",
   "execution_count": 94,
   "id": "7d0fad91",
   "metadata": {},
   "outputs": [],
   "source": [
    "model.save('rand_model.h5')"
   ]
  },
  {
   "cell_type": "code",
   "execution_count": 91,
   "id": "0dea37c6",
   "metadata": {},
   "outputs": [
    {
     "name": "stdout",
     "output_type": "stream",
     "text": [
      "20/20 [==============================] - 13s 612ms/step - loss: 0.6929 - accuracy: 0.6250 - auc: 0.5000\n"
     ]
    }
   ],
   "source": [
    "results = model.evaluate(test_data, batch_size=32)"
   ]
  },
  {
   "cell_type": "code",
   "execution_count": 93,
   "id": "aeffa82d",
   "metadata": {},
   "outputs": [
    {
     "name": "stdout",
     "output_type": "stream",
     "text": [
      "20/20 [==============================] - 9s 384ms/step\n"
     ]
    }
   ],
   "source": [
    "ypred = model.predict(test_data, batch_size=32)"
   ]
  },
  {
   "cell_type": "code",
   "execution_count": 92,
   "id": "90770105",
   "metadata": {},
   "outputs": [
    {
     "ename": "NameError",
     "evalue": "name 'ypred' is not defined",
     "output_type": "error",
     "traceback": [
      "\u001b[1;31m---------------------------------------------------------------------------\u001b[0m",
      "\u001b[1;31mNameError\u001b[0m                                 Traceback (most recent call last)",
      "Cell \u001b[1;32mIn[92], line 1\u001b[0m\n\u001b[1;32m----> 1\u001b[0m yhat \u001b[38;5;241m=\u001b[39m np\u001b[38;5;241m.\u001b[39mzeros(\u001b[38;5;28mlen\u001b[39m(\u001b[43mypred\u001b[49m))\n\u001b[0;32m      3\u001b[0m \u001b[38;5;28;01mfor\u001b[39;00m i, item \u001b[38;5;129;01min\u001b[39;00m \u001b[38;5;28menumerate\u001b[39m(ypred):\n\u001b[0;32m      4\u001b[0m     yhat[i] \u001b[38;5;241m=\u001b[39m item\n",
      "\u001b[1;31mNameError\u001b[0m: name 'ypred' is not defined"
     ]
    }
   ],
   "source": [
    "yhat = np.zeros(len(ypred))\n",
    "\n",
    "for i, item in enumerate(ypred):\n",
    "    yhat[i] = item\n",
    "    \n",
    "    if yhat[i] > 0.5:\n",
    "        yhat[i] = 1\n",
    "    else:\n",
    "        yhat[i] = 0"
   ]
  },
  {
   "cell_type": "code",
   "execution_count": 26,
   "id": "d2db1d2f",
   "metadata": {},
   "outputs": [
    {
     "name": "stdout",
     "output_type": "stream",
     "text": [
      "[0. 1. 0. 0. 0. 0. 0. 0. 0. 1. 0. 0. 0. 0. 1. 0. 1. 0. 0. 0. 1. 0. 0. 0.\n",
      " 0. 0. 0. 0. 0. 0. 0. 0. 0. 0. 0. 0. 0. 0. 0. 0. 1. 0. 0. 0. 0. 0. 1. 1.\n",
      " 0. 0. 0. 0. 0. 0. 0. 0. 0. 0. 0. 1. 0. 1. 0. 0. 0. 0. 1. 0. 0. 0. 0. 0.\n",
      " 0. 0. 0. 0. 0. 0. 0. 0. 0. 0. 0. 0. 0. 0. 0. 0. 1. 0. 0. 0. 0. 0. 1. 1.\n",
      " 0. 0. 0. 0. 0. 0. 0. 0. 0. 0. 0. 0. 0. 1. 0. 0. 0. 0. 0. 1. 0. 0. 0. 1.\n",
      " 1. 1. 1. 1. 1. 0. 1. 0. 1. 1. 1. 1. 1. 1. 1. 1. 1. 1. 1. 1. 1. 0. 1. 1.\n",
      " 1. 1. 1. 1. 1. 0. 0. 0. 0. 0. 0. 0. 0. 0. 0. 1. 1. 0. 0. 0. 0. 0. 0. 1.\n",
      " 0. 0. 0. 1. 1. 1. 1. 0. 0. 0. 1. 0. 1. 1. 1. 0. 0. 0. 1. 0. 0. 0. 1. 0.\n",
      " 0. 1. 0. 0. 0. 1. 1. 0. 1. 0. 0. 0. 0. 1. 0. 0. 0. 0. 1. 0. 0. 1. 0. 0.\n",
      " 0. 1. 1. 1. 0. 1. 1. 1. 0. 0. 1. 0. 1. 0. 1. 0. 0. 1. 1. 1. 1. 1. 1. 1.\n",
      " 1. 1. 1. 1. 1. 1. 1. 1. 1. 1. 1. 1. 1. 1. 1. 1. 1. 1. 1. 0. 1. 1. 1. 1.\n",
      " 1. 1. 1. 1. 1. 1. 1. 1. 1. 1. 1. 1. 1. 1. 1. 1. 1. 1. 0. 1. 1. 1. 1. 1.\n",
      " 1. 1. 1. 1. 1. 1. 1. 1. 1. 1. 1. 1. 1. 1. 1. 1. 1. 1. 1. 1. 1. 1. 1. 1.\n",
      " 1. 1. 1. 1. 1. 0. 1. 1. 1. 1. 0. 1. 1. 1. 1. 1. 1. 1. 1. 1. 1. 1. 1. 1.\n",
      " 1. 1. 1. 1. 1. 1. 1. 1. 1. 1. 1. 1. 1. 1. 1. 1. 1. 1. 1. 1. 1. 1. 1. 1.\n",
      " 1. 1. 1. 1. 1. 1. 1. 1. 1. 1. 1. 1. 1. 1. 1. 1. 1. 1. 1. 1. 1. 1. 1. 1.\n",
      " 1. 1. 1. 1. 1. 1. 0. 0. 1. 1. 1. 1. 1. 1. 1. 1. 1. 0. 1. 1. 1. 1. 1. 1.\n",
      " 1. 1. 1. 1. 1. 1. 1. 1. 1. 1. 1. 1. 1. 1. 1. 1. 1. 1. 1. 1. 1. 1. 1. 1.\n",
      " 1. 1. 1. 1. 1. 1. 1. 1. 1. 1. 1. 1. 1. 1. 1. 1. 1. 1. 1. 1. 1. 1. 1. 1.\n",
      " 1. 1. 1. 1. 1. 1. 1. 1. 1. 1. 1. 1. 1. 1. 1. 1. 1. 0. 1. 1. 0. 1. 1. 1.\n",
      " 1. 1. 1. 1. 1. 1. 1. 1. 1. 1. 1. 1. 1. 1. 1. 1. 1. 1. 1. 1. 1. 1. 1. 1.\n",
      " 1. 1. 1. 1. 1. 1. 1. 1. 1. 1. 1. 1. 1. 1. 1. 1. 1. 1. 1. 1. 1. 1. 1. 1.\n",
      " 1. 1. 1. 1. 1. 1. 1. 1. 1. 1. 1. 1. 1. 1. 1. 1. 1. 1. 1. 1. 1. 1. 1. 1.\n",
      " 1. 1. 1. 1. 1. 1. 1. 1. 1. 1. 1. 1. 1. 1. 1. 1. 1. 1. 1. 1. 1. 1. 1. 1.\n",
      " 1. 1. 1. 1. 1. 1. 1. 1. 1. 1. 1. 1. 1. 1. 1. 1. 1. 1. 1. 1. 1. 1. 1. 0.\n",
      " 1. 0. 1. 1. 1. 1. 1. 1. 1. 1. 1. 1. 1. 1. 1. 1. 1. 1. 1. 1. 1. 1. 1. 1.]\n"
     ]
    }
   ],
   "source": [
    "print(yhat)"
   ]
  },
  {
   "cell_type": "code",
   "execution_count": 27,
   "id": "121f10f1",
   "metadata": {},
   "outputs": [],
   "source": [
    "from sklearn.metrics import classification_report,confusion_matrix\n",
    "import pandas as pd\n",
    "\n",
    "cm = pd.DataFrame(data=confusion_matrix(test_data.classes, yhat, labels=[0, 1]),index=[\"Actual Normal\", \"Actual Pneumonia\"],\n",
    "columns=[\"Predicted Normal\", \"Predicted Pneumonia\"])"
   ]
  },
  {
   "cell_type": "code",
   "execution_count": 28,
   "id": "9a6e3942",
   "metadata": {},
   "outputs": [
    {
     "data": {
      "text/plain": [
       "<Axes: >"
      ]
     },
     "execution_count": 28,
     "metadata": {},
     "output_type": "execute_result"
    },
    {
     "data": {
      "image/png": "[encoded data removed]",
      "text/plain": [
       "<Figure size 640x480 with 2 Axes>"
      ]
     },
     "metadata": {},
     "output_type": "display_data"
    }
   ],
   "source": [
    "import seaborn as sns\n",
    "sns.heatmap(cm,annot=True,fmt=\"d\")"
   ]
  },
  {
   "cell_type": "code",
   "execution_count": 29,
   "id": "da6a0819",
   "metadata": {},
   "outputs": [
    {
     "name": "stdout",
     "output_type": "stream",
     "text": [
      "              precision    recall  f1-score   support\n",
      "\n",
      "      NORMAL       0.94      0.69      0.79       234\n",
      "   PNEUMONIA       0.84      0.97      0.90       390\n",
      "\n",
      "    accuracy                           0.87       624\n",
      "   macro avg       0.89      0.83      0.85       624\n",
      "weighted avg       0.88      0.87      0.86       624\n",
      "\n"
     ]
    }
   ],
   "source": [
    "print(classification_report(y_true=test_data.classes,y_pred=yhat,target_names =['NORMAL','PNEUMONIA']))"
   ]
  },
  {
   "cell_type": "code",
   "execution_count": 30,
   "id": "9d0beb0a",
   "metadata": {},
   "outputs": [],
   "source": [
    "model.save('my_model.h5')"
   ]
  }
 ],
 "metadata": {
  "kernelspec": {
   "display_name": "Python [conda env:MLHC]",
   "language": "python",
   "name": "conda-env-MLHC-py"
  },
  "language_info": {
   "codemirror_mode": {
    "name": "ipython",
    "version": 3
   },
   "file_extension": ".py",
   "mimetype": "text/x-python",
   "name": "python",
   "nbconvert_exporter": "python",
   "pygments_lexer": "ipython3",
   "version": "3.9.16"
  }
 },
 "nbformat": 4,
 "nbformat_minor": 5
}
