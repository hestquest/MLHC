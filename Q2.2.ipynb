{
 "cells": [
  {
   "cell_type": "markdown",
   "id": "970afa9e",
   "metadata": {},
   "source": [
    "# Building the CNN"
   ]
  },
  {
   "cell_type": "code",
   "execution_count": 2,
   "id": "6ed9699a",
   "metadata": {},
   "outputs": [],
   "source": [
    "import tensorflow as tf\n",
    "import os\n",
    "\n",
    "import cv2\n",
    "import imghdr\n",
    "\n",
    "import numpy as np\n",
    "import matplotlib.pyplot as plt\n",
    "from tensorflow.keras.preprocessing.image import ImageDataGenerator"
   ]
  },
  {
   "cell_type": "markdown",
   "id": "ebd45669",
   "metadata": {},
   "source": [
    "## Building Keras Pipeline"
   ]
  },
  {
   "cell_type": "code",
   "execution_count": 3,
   "id": "48fce12e",
   "metadata": {},
   "outputs": [],
   "source": [
    "batch_size = 32"
   ]
  },
  {
   "cell_type": "code",
   "execution_count": 4,
   "id": "150c1bc3",
   "metadata": {},
   "outputs": [],
   "source": [
    "image_generator = ImageDataGenerator(rescale = 1./255, shear_range = 0.1, zoom_range = 0.1)\n",
    "\n",
    "test_generator = ImageDataGenerator(rescale = 1./255)"
   ]
  },
  {
   "cell_type": "code",
   "execution_count": 5,
   "id": "6eac8278",
   "metadata": {},
   "outputs": [
    {
     "name": "stdout",
     "output_type": "stream",
     "text": [
      "Found 5216 images belonging to 2 classes.\n",
      "Found 16 images belonging to 2 classes.\n",
      "Found 624 images belonging to 2 classes.\n"
     ]
    }
   ],
   "source": [
    "train_data = image_generator.flow_from_directory('chest_xray/train', \n",
    "                                                 class_mode='binary', \n",
    "                                                 batch_size = batch_size, \n",
    "                                                 classes = ['NORMAL', 'PNEUMONIA'], \n",
    "                                                 color_mode = 'grayscale', \n",
    "                                                 shuffle=False, \n",
    "                                                 target_size=(256, 256))\n",
    "\n",
    "val_data = test_generator.flow_from_directory('chest_xray/val', \n",
    "                                              class_mode='binary', \n",
    "                                              batch_size = batch_size, \n",
    "                                              classes = ['NORMAL', 'PNEUMONIA'], \n",
    "                                              color_mode = 'grayscale', \n",
    "                                              shuffle=False, \n",
    "                                              target_size=(256, 256))\n",
    "\n",
    "test_data = test_generator.flow_from_directory('chest_xray/test', \n",
    "                                               class_mode='binary', \n",
    "                                               batch_size = batch_size, \n",
    "                                               classes = ['NORMAL', 'PNEUMONIA'], \n",
    "                                               color_mode = 'grayscale', \n",
    "                                               shuffle=False, \n",
    "                                               target_size=(256, 256))"
   ]
  },
  {
   "cell_type": "code",
   "execution_count": 6,
   "id": "5dadc2a9",
   "metadata": {},
   "outputs": [
    {
     "name": "stdout",
     "output_type": "stream",
     "text": [
      "[0 0 0 ... 1 1 1]\n"
     ]
    }
   ],
   "source": [
    "class_names = train_data.classes\n",
    "print(class_names)"
   ]
  },
  {
   "cell_type": "code",
   "execution_count": 11,
   "id": "22e5c1d1",
   "metadata": {},
   "outputs": [
    {
     "name": "stdout",
     "output_type": "stream",
     "text": [
      "(32, 256, 256, 1)\n",
      "(32,)\n"
     ]
    }
   ],
   "source": [
    "for image_batch, labels_batch in train_data:\n",
    "    print(image_batch.shape)\n",
    "    print(labels_batch.shape)\n",
    "    break"
   ]
  },
  {
   "cell_type": "markdown",
   "id": "b735e4ac",
   "metadata": {},
   "source": [
    "## Building Model"
   ]
  },
  {
   "cell_type": "code",
   "execution_count": 12,
   "id": "8880df6a",
   "metadata": {},
   "outputs": [],
   "source": [
    "import keras\n",
    "from tensorflow.keras import layers\n",
    "\n",
    "from tensorflow.keras.models import Sequential\n",
    "from tensorflow.keras.layers import Conv2D, MaxPooling2D, Dense, Flatten, Dropout, Rescaling"
   ]
  },
  {
   "cell_type": "code",
   "execution_count": 13,
   "id": "798d68eb",
   "metadata": {},
   "outputs": [],
   "source": [
    "model = Sequential()"
   ]
  },
  {
   "cell_type": "code",
   "execution_count": 14,
   "id": "a3c20f69",
   "metadata": {},
   "outputs": [],
   "source": [
    "model.add(Conv2D(8, (3,3), 1, activation='relu', input_shape=(256, 256, 1)))\n",
    "model.add(MaxPooling2D())\n",
    "\n",
    "model.add(Conv2D(16, (3,3), 1, activation='relu', input_shape=(256, 256, 1)))\n",
    "model.add(MaxPooling2D())\n",
    "\n",
    "model.add(Conv2D(32, (3,3), 1, activation='relu'))\n",
    "model.add(MaxPooling2D())\n",
    "\n",
    "model.add(Conv2D(32, (3,3), 1, activation='relu'))\n",
    "model.add(MaxPooling2D())\n",
    "\n",
    "model.add(Flatten())\n",
    "\n",
    "model.add(Dense(128, activation='relu'))\n",
    "model.add(Dense(64, activation = 'relu'))\n",
    "model.add(Dense(1, activation='sigmoid'))"
   ]
  },
  {
   "cell_type": "code",
   "execution_count": 15,
   "id": "6bef4ad1",
   "metadata": {},
   "outputs": [],
   "source": [
    "model.compile('adam', loss=tf.losses.BinaryCrossentropy(), metrics=['accuracy', 'AUC'])"
   ]
  },
  {
   "cell_type": "code",
   "execution_count": 16,
   "id": "b27d097b",
   "metadata": {},
   "outputs": [
    {
     "name": "stdout",
     "output_type": "stream",
     "text": [
      "Model: \"sequential\"\n",
      "_________________________________________________________________\n",
      " Layer (type)                Output Shape              Param #   \n",
      "=================================================================\n",
      " conv2d (Conv2D)             (None, 254, 254, 8)       80        \n",
      "                                                                 \n",
      " max_pooling2d (MaxPooling2D  (None, 127, 127, 8)      0         \n",
      " )                                                               \n",
      "                                                                 \n",
      " conv2d_1 (Conv2D)           (None, 125, 125, 16)      1168      \n",
      "                                                                 \n",
      " max_pooling2d_1 (MaxPooling  (None, 62, 62, 16)       0         \n",
      " 2D)                                                             \n",
      "                                                                 \n",
      " conv2d_2 (Conv2D)           (None, 60, 60, 32)        4640      \n",
      "                                                                 \n",
      " max_pooling2d_2 (MaxPooling  (None, 30, 30, 32)       0         \n",
      " 2D)                                                             \n",
      "                                                                 \n",
      " conv2d_3 (Conv2D)           (None, 28, 28, 32)        9248      \n",
      "                                                                 \n",
      " max_pooling2d_3 (MaxPooling  (None, 14, 14, 32)       0         \n",
      " 2D)                                                             \n",
      "                                                                 \n",
      " flatten (Flatten)           (None, 6272)              0         \n",
      "                                                                 \n",
      " dense (Dense)               (None, 128)               802944    \n",
      "                                                                 \n",
      " dense_1 (Dense)             (None, 64)                8256      \n",
      "                                                                 \n",
      " dense_2 (Dense)             (None, 1)                 65        \n",
      "                                                                 \n",
      "=================================================================\n",
      "Total params: 826,401\n",
      "Trainable params: 826,401\n",
      "Non-trainable params: 0\n",
      "_________________________________________________________________\n"
     ]
    }
   ],
   "source": [
    "model.summary()"
   ]
  },
  {
   "cell_type": "code",
   "execution_count": 17,
   "id": "6a5552a2",
   "metadata": {},
   "outputs": [],
   "source": [
    "from tensorflow.keras.utils import plot_model\n",
    "from tensorflow.keras.callbacks import EarlyStopping,ReduceLROnPlateau\n",
    "from sklearn.utils.class_weight import compute_class_weight"
   ]
  },
  {
   "cell_type": "code",
   "execution_count": 18,
   "id": "f468caf2",
   "metadata": {},
   "outputs": [],
   "source": [
    "early = EarlyStopping(monitor = 'val_loss', mode='min', patience=4)\n",
    "\n",
    "learning_rate_reduction = ReduceLROnPlateau(monitor='val_loss', patience = 3, verbose=1,factor=0.3, min_lr=0.000001)\n",
    "\n",
    "callbacks_list = [early, learning_rate_reduction]"
   ]
  },
  {
   "cell_type": "code",
   "execution_count": 19,
   "id": "3af31d0f",
   "metadata": {},
   "outputs": [],
   "source": [
    "unique_classes = np.unique(train_data.classes)\n",
    "classes = train_data.classes\n",
    "\n",
    "weights = compute_class_weight(class_weight = 'balanced', classes= unique_classes, y = classes)\n",
    "\n",
    "class_weights = dict(zip( np.unique(train_data.classes), weights))"
   ]
  },
  {
   "cell_type": "markdown",
   "id": "d700158e",
   "metadata": {},
   "source": [
    "## Training Model"
   ]
  },
  {
   "cell_type": "code",
   "execution_count": 20,
   "id": "365fad6a",
   "metadata": {},
   "outputs": [
    {
     "name": "stdout",
     "output_type": "stream",
     "text": [
      "Epoch 1/20\n",
      "163/163 [==============================] - 160s 967ms/step - loss: 0.7363 - accuracy: 0.5838 - auc: 0.4343 - val_loss: 0.6899 - val_accuracy: 0.6875 - val_auc: 0.7266 - lr: 0.0010\n",
      "Epoch 2/20\n",
      "163/163 [==============================] - 148s 906ms/step - loss: 0.6426 - accuracy: 0.6825 - auc: 0.7152 - val_loss: 0.6131 - val_accuracy: 0.5625 - val_auc: 0.7031 - lr: 0.0010\n",
      "Epoch 3/20\n",
      "163/163 [==============================] - 149s 913ms/step - loss: 1.1512 - accuracy: 0.6806 - auc: 0.7924 - val_loss: 0.6127 - val_accuracy: 0.8125 - val_auc: 0.7344 - lr: 0.0010\n",
      "Epoch 4/20\n",
      "163/163 [==============================] - 147s 900ms/step - loss: 0.5303 - accuracy: 0.7500 - auc: 0.8282 - val_loss: 0.4090 - val_accuracy: 0.7500 - val_auc: 0.8750 - lr: 0.0010\n",
      "Epoch 5/20\n",
      "163/163 [==============================] - 146s 893ms/step - loss: 0.3253 - accuracy: 0.8692 - auc: 0.9364 - val_loss: 0.2093 - val_accuracy: 0.8750 - val_auc: 0.9844 - lr: 0.0010\n",
      "Epoch 6/20\n",
      "163/163 [==============================] - 145s 890ms/step - loss: 0.3079 - accuracy: 0.8808 - auc: 0.9420 - val_loss: 0.2475 - val_accuracy: 0.8750 - val_auc: 1.0000 - lr: 0.0010\n",
      "Epoch 7/20\n",
      "163/163 [==============================] - 145s 890ms/step - loss: 0.2217 - accuracy: 0.9160 - auc: 0.9694 - val_loss: 0.3450 - val_accuracy: 0.8125 - val_auc: 1.0000 - lr: 0.0010\n",
      "Epoch 8/20\n",
      "163/163 [==============================] - ETA: 0s - loss: 0.2001 - accuracy: 0.9225 - auc: 0.9742\n",
      "Epoch 8: ReduceLROnPlateau reducing learning rate to 0.0003000000142492354.\n",
      "163/163 [==============================] - 146s 897ms/step - loss: 0.2001 - accuracy: 0.9225 - auc: 0.9742 - val_loss: 0.2478 - val_accuracy: 0.8750 - val_auc: 1.0000 - lr: 0.0010\n",
      "Epoch 9/20\n",
      "163/163 [==============================] - 148s 905ms/step - loss: 0.1521 - accuracy: 0.9402 - auc: 0.9854 - val_loss: 0.0950 - val_accuracy: 1.0000 - val_auc: 1.0000 - lr: 3.0000e-04\n",
      "Epoch 10/20\n",
      "163/163 [==============================] - 146s 894ms/step - loss: 0.1404 - accuracy: 0.9482 - auc: 0.9871 - val_loss: 0.0937 - val_accuracy: 1.0000 - val_auc: 1.0000 - lr: 3.0000e-04\n",
      "Epoch 11/20\n",
      "163/163 [==============================] - 146s 896ms/step - loss: 0.1394 - accuracy: 0.9467 - auc: 0.9878 - val_loss: 0.0765 - val_accuracy: 1.0000 - val_auc: 1.0000 - lr: 3.0000e-04\n",
      "Epoch 12/20\n",
      "163/163 [==============================] - 146s 893ms/step - loss: 0.1383 - accuracy: 0.9461 - auc: 0.9873 - val_loss: 0.0896 - val_accuracy: 1.0000 - val_auc: 1.0000 - lr: 3.0000e-04\n",
      "Epoch 13/20\n",
      "163/163 [==============================] - 146s 895ms/step - loss: 0.1326 - accuracy: 0.9540 - auc: 0.9885 - val_loss: 0.0856 - val_accuracy: 1.0000 - val_auc: 1.0000 - lr: 3.0000e-04\n",
      "Epoch 14/20\n",
      "163/163 [==============================] - 147s 897ms/step - loss: 0.1307 - accuracy: 0.9486 - auc: 0.9892 - val_loss: 0.0617 - val_accuracy: 1.0000 - val_auc: 1.0000 - lr: 3.0000e-04\n",
      "Epoch 15/20\n",
      "163/163 [==============================] - 146s 895ms/step - loss: 0.1209 - accuracy: 0.9494 - auc: 0.9907 - val_loss: 0.0698 - val_accuracy: 1.0000 - val_auc: 1.0000 - lr: 3.0000e-04\n",
      "Epoch 16/20\n",
      "163/163 [==============================] - 145s 887ms/step - loss: 0.1223 - accuracy: 0.9542 - auc: 0.9901 - val_loss: 0.0739 - val_accuracy: 1.0000 - val_auc: 1.0000 - lr: 3.0000e-04\n",
      "Epoch 17/20\n",
      "163/163 [==============================] - ETA: 0s - loss: 0.1191 - accuracy: 0.9509 - auc: 0.9907\n",
      "Epoch 17: ReduceLROnPlateau reducing learning rate to 9.000000427477062e-05.\n",
      "163/163 [==============================] - 148s 906ms/step - loss: 0.1191 - accuracy: 0.9509 - auc: 0.9907 - val_loss: 0.0671 - val_accuracy: 1.0000 - val_auc: 1.0000 - lr: 3.0000e-04\n",
      "Epoch 18/20\n",
      "163/163 [==============================] - 147s 901ms/step - loss: 0.1005 - accuracy: 0.9615 - auc: 0.9931 - val_loss: 0.0717 - val_accuracy: 1.0000 - val_auc: 1.0000 - lr: 9.0000e-05\n"
     ]
    }
   ],
   "source": [
    "hist = model.fit(train_data, epochs=20, validation_data = val_data, class_weight = class_weights, callbacks=callbacks_list)"
   ]
  },
  {
   "cell_type": "code",
   "execution_count": 21,
   "id": "a20839f5",
   "metadata": {},
   "outputs": [
    {
     "data": {
      "image/png": "[encoded data removed]",
      "text/plain": [
       "<Figure size 640x480 with 1 Axes>"
      ]
     },
     "metadata": {},
     "output_type": "display_data"
    }
   ],
   "source": [
    "fig = plt.figure()\n",
    "plt.plot(hist.history['loss'], color='teal', label='loss')\n",
    "plt.plot(hist.history['val_loss'], color='orange', label='val_loss')\n",
    "fig.suptitle('Loss', fontsize=20)\n",
    "plt.legend(loc='upper left')\n",
    "plt.show()"
   ]
  },
  {
   "cell_type": "markdown",
   "id": "985ab711",
   "metadata": {},
   "source": [
    "## Testing and Evaluating Model"
   ]
  },
  {
   "cell_type": "code",
   "execution_count": 22,
   "id": "290c984f",
   "metadata": {},
   "outputs": [],
   "source": [
    "from tensorflow.keras.metrics import Precision, Recall, BinaryAccuracy\n",
    "import sklearn.metrics"
   ]
  },
  {
   "cell_type": "code",
   "execution_count": 23,
   "id": "0dea37c6",
   "metadata": {},
   "outputs": [
    {
     "name": "stdout",
     "output_type": "stream",
     "text": [
      "20/20 [==============================] - 8s 360ms/step - loss: 0.3920 - accuracy: 0.8654 - auc: 0.9381\n"
     ]
    }
   ],
   "source": [
    "results = model.evaluate(test_data, batch_size=32)"
   ]
  },
  {
   "cell_type": "code",
   "execution_count": 24,
   "id": "aeffa82d",
   "metadata": {},
   "outputs": [
    {
     "name": "stdout",
     "output_type": "stream",
     "text": [
      "20/20 [==============================] - 7s 331ms/step\n"
     ]
    }
   ],
   "source": [
    "ypred = model.predict(test_data, batch_size=32)"
   ]
  },
  {
   "cell_type": "code",
   "execution_count": 25,
   "id": "90770105",
   "metadata": {},
   "outputs": [],
   "source": [
    "yhat = np.zeros(len(ypred))\n",
    "\n",
    "for i, item in enumerate(ypred):\n",
    "    yhat[i] = item\n",
    "    \n",
    "    if yhat[i] > 0.5:\n",
    "        yhat[i] = 1\n",
    "    else:\n",
    "        yhat[i] = 0"
   ]
  },
  {
   "cell_type": "code",
   "execution_count": 26,
   "id": "d2db1d2f",
   "metadata": {},
   "outputs": [
    {
     "name": "stdout",
     "output_type": "stream",
     "text": [
      "[0. 1. 0. 0. 0. 0. 0. 0. 0. 1. 0. 0. 0. 0. 1. 0. 1. 0. 0. 0. 1. 0. 0. 0.\n",
      " 0. 0. 0. 0. 0. 0. 0. 0. 0. 0. 0. 0. 0. 0. 0. 0. 1. 0. 0. 0. 0. 0. 1. 1.\n",
      " 0. 0. 0. 0. 0. 0. 0. 0. 0. 0. 0. 1. 0. 1. 0. 0. 0. 0. 1. 0. 0. 0. 0. 0.\n",
      " 0. 0. 0. 0. 0. 0. 0. 0. 0. 0. 0. 0. 0. 0. 0. 0. 1. 0. 0. 0. 0. 0. 1. 1.\n",
      " 0. 0. 0. 0. 0. 0. 0. 0. 0. 0. 0. 0. 0. 1. 0. 0. 0. 0. 0. 1. 0. 0. 0. 1.\n",
      " 1. 1. 1. 1. 1. 0. 1. 0. 1. 1. 1. 1. 1. 1. 1. 1. 1. 1. 1. 1. 1. 0. 1. 1.\n",
      " 1. 1. 1. 1. 1. 0. 0. 0. 0. 0. 0. 0. 0. 0. 0. 1. 1. 0. 0. 0. 0. 0. 0. 1.\n",
      " 0. 0. 0. 1. 1. 1. 1. 0. 0. 0. 1. 0. 1. 1. 1. 0. 0. 0. 1. 0. 0. 0. 1. 0.\n",
      " 0. 1. 0. 0. 0. 1. 1. 0. 1. 0. 0. 0. 0. 1. 0. 0. 0. 0. 1. 0. 0. 1. 0. 0.\n",
      " 0. 1. 1. 1. 0. 1. 1. 1. 0. 0. 1. 0. 1. 0. 1. 0. 0. 1. 1. 1. 1. 1. 1. 1.\n",
      " 1. 1. 1. 1. 1. 1. 1. 1. 1. 1. 1. 1. 1. 1. 1. 1. 1. 1. 1. 0. 1. 1. 1. 1.\n",
      " 1. 1. 1. 1. 1. 1. 1. 1. 1. 1. 1. 1. 1. 1. 1. 1. 1. 1. 0. 1. 1. 1. 1. 1.\n",
      " 1. 1. 1. 1. 1. 1. 1. 1. 1. 1. 1. 1. 1. 1. 1. 1. 1. 1. 1. 1. 1. 1. 1. 1.\n",
      " 1. 1. 1. 1. 1. 0. 1. 1. 1. 1. 0. 1. 1. 1. 1. 1. 1. 1. 1. 1. 1. 1. 1. 1.\n",
      " 1. 1. 1. 1. 1. 1. 1. 1. 1. 1. 1. 1. 1. 1. 1. 1. 1. 1. 1. 1. 1. 1. 1. 1.\n",
      " 1. 1. 1. 1. 1. 1. 1. 1. 1. 1. 1. 1. 1. 1. 1. 1. 1. 1. 1. 1. 1. 1. 1. 1.\n",
      " 1. 1. 1. 1. 1. 1. 0. 0. 1. 1. 1. 1. 1. 1. 1. 1. 1. 0. 1. 1. 1. 1. 1. 1.\n",
      " 1. 1. 1. 1. 1. 1. 1. 1. 1. 1. 1. 1. 1. 1. 1. 1. 1. 1. 1. 1. 1. 1. 1. 1.\n",
      " 1. 1. 1. 1. 1. 1. 1. 1. 1. 1. 1. 1. 1. 1. 1. 1. 1. 1. 1. 1. 1. 1. 1. 1.\n",
      " 1. 1. 1. 1. 1. 1. 1. 1. 1. 1. 1. 1. 1. 1. 1. 1. 1. 0. 1. 1. 0. 1. 1. 1.\n",
      " 1. 1. 1. 1. 1. 1. 1. 1. 1. 1. 1. 1. 1. 1. 1. 1. 1. 1. 1. 1. 1. 1. 1. 1.\n",
      " 1. 1. 1. 1. 1. 1. 1. 1. 1. 1. 1. 1. 1. 1. 1. 1. 1. 1. 1. 1. 1. 1. 1. 1.\n",
      " 1. 1. 1. 1. 1. 1. 1. 1. 1. 1. 1. 1. 1. 1. 1. 1. 1. 1. 1. 1. 1. 1. 1. 1.\n",
      " 1. 1. 1. 1. 1. 1. 1. 1. 1. 1. 1. 1. 1. 1. 1. 1. 1. 1. 1. 1. 1. 1. 1. 1.\n",
      " 1. 1. 1. 1. 1. 1. 1. 1. 1. 1. 1. 1. 1. 1. 1. 1. 1. 1. 1. 1. 1. 1. 1. 0.\n",
      " 1. 0. 1. 1. 1. 1. 1. 1. 1. 1. 1. 1. 1. 1. 1. 1. 1. 1. 1. 1. 1. 1. 1. 1.]\n"
     ]
    }
   ],
   "source": [
    "print(yhat)"
   ]
  },
  {
   "cell_type": "code",
   "execution_count": 27,
   "id": "121f10f1",
   "metadata": {},
   "outputs": [],
   "source": [
    "from sklearn.metrics import classification_report,confusion_matrix\n",
    "import pandas as pd\n",
    "\n",
    "cm = pd.DataFrame(data=confusion_matrix(test_data.classes, yhat, labels=[0, 1]),index=[\"Actual Normal\", \"Actual Pneumonia\"],\n",
    "columns=[\"Predicted Normal\", \"Predicted Pneumonia\"])"
   ]
  },
  {
   "cell_type": "code",
   "execution_count": 28,
   "id": "9a6e3942",
   "metadata": {},
   "outputs": [
    {
     "data": {
      "text/plain": [
       "<Axes: >"
      ]
     },
     "execution_count": 28,
     "metadata": {},
     "output_type": "execute_result"
    },
    {
     "data": {
      "image/png": "[encoded data removed]",
      "text/plain": [
       "<Figure size 640x480 with 2 Axes>"
      ]
     },
     "metadata": {},
     "output_type": "display_data"
    }
   ],
   "source": [
    "import seaborn as sns\n",
    "sns.heatmap(cm,annot=True,fmt=\"d\")"
   ]
  },
  {
   "cell_type": "code",
   "execution_count": 29,
   "id": "da6a0819",
   "metadata": {},
   "outputs": [
    {
     "name": "stdout",
     "output_type": "stream",
     "text": [
      "              precision    recall  f1-score   support\n",
      "\n",
      "      NORMAL       0.94      0.69      0.79       234\n",
      "   PNEUMONIA       0.84      0.97      0.90       390\n",
      "\n",
      "    accuracy                           0.87       624\n",
      "   macro avg       0.89      0.83      0.85       624\n",
      "weighted avg       0.88      0.87      0.86       624\n",
      "\n"
     ]
    }
   ],
   "source": [
    "print(classification_report(y_true=test_data.classes,y_pred=yhat,target_names =['NORMAL','PNEUMONIA']))"
   ]
  },
  {
   "cell_type": "code",
   "execution_count": 30,
   "id": "9d0beb0a",
   "metadata": {},
   "outputs": [],
   "source": [
    "model.save('my_model.h5')"
   ]
  }
 ],
 "metadata": {
  "kernelspec": {
   "display_name": "Python [conda env:MLHC]",
   "language": "python",
   "name": "conda-env-MLHC-py"
  },
  "language_info": {
   "codemirror_mode": {
    "name": "ipython",
    "version": 3
   },
   "file_extension": ".py",
   "mimetype": "text/x-python",
   "name": "python",
   "nbconvert_exporter": "python",
   "pygments_lexer": "ipython3",
   "version": "3.9.16"
  }
 },
 "nbformat": 4,
 "nbformat_minor": 5
}
